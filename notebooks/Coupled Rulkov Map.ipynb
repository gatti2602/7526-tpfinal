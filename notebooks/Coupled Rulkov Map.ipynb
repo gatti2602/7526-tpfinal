{
 "cells": [
  {
   "cell_type": "code",
   "execution_count": 12,
   "metadata": {},
   "outputs": [],
   "source": [
    "import pandas as pd\n",
    "import numpy as np\n",
    "import matplotlib.pyplot as plt\n",
    "import math\n",
    "\n",
    "%matplotlib inline"
   ]
  },
  {
   "cell_type": "markdown",
   "metadata": {},
   "source": [
    "# Mapa de Rulkov\n",
    "\n",
    "Se simula un mapa de Rulkov como un sistema dinamico discreto de 4 variables\n",
    "\n",
    "## Variables: \n",
    "- sigma: Emula la accion de una corriente DC bias externa sobre la neurona\n",
    "- ai: Parametro de control que produce los diferentes patrones de disparo\n",
    "- xi(n): Potencial trans-membrana de la i-ava neurona en el tiempo n\n",
    "- yi(n): Variacion de la corriente de recuperacion ionica\n",
    "- nu: Parametro positivo pequeño << 1\n",
    "- gamma: Funcion sigmoidal de entrada-salida\n",
    "- f: Funcion de acoplamiento interno\n",
    "- gc: Fuerza de la sinapsis quimica\n",
    "- e: Fuerza de acoplamiento interno\n",
    "- vs: Potencial sinaptico reverso\n",
    "- k: Slope de la sigmoidal\n",
    "- titas: Umbral de disparo sinaptico"
   ]
  },
  {
   "cell_type": "code",
   "execution_count": 38,
   "metadata": {},
   "outputs": [],
   "source": [
    "#Constants\n",
    "a = 4.1\n",
    "nu = 0.001\n",
    "sigma = -1.6\n",
    "vs = -1.4\n",
    "k=50\n",
    "titas = -1.4\n",
    "e=0.5\n",
    "gc = 1.0\n",
    "\n",
    "steps = int(2e5)\n",
    "\n",
    "#Functions\n",
    "def f(x, y):\n",
    "    return a/(1 + x**2) + y\n",
    "\n",
    "def gamma(x):\n",
    "    return 1/(1 + math.exp(-1*k*(x-titas)))\n",
    "\n",
    "def next_x1(x1, y1, x2, y2): \n",
    "    return f(x1, y1) + gc*(vs-x1)*gamma(x2) + e*(f(x2,y2)-f(x1,y1))\n",
    "\n",
    "def next_y1(x1, y1):\n",
    "    return y1 - nu*(x1-sigma)\n",
    "\n",
    "def next_x2(x1, y1, x2, y2):\n",
    "    return next_x1(x2, y2, x1, y1)\n",
    "\n",
    "def next_y2(x2, y2):\n",
    "    return next_y1(x2, y2)\n",
    "\n",
    "def run_sim():\n",
    "    global x1, x2, y1, y2\n",
    "    x1 = np.zeros(steps)\n",
    "    x2 = np.zeros(steps)\n",
    "    y1 = np.zeros(steps)\n",
    "    y2 = np.zeros(steps)\n",
    "    \n",
    "    x1[0], y1[0] = [0,-8.7]\n",
    "    x2[0], y2[0] = [0,-8.7]\n",
    "    \n",
    "    for i in range(1, steps):\n",
    "        x1[i] = next_x1(x1[i-1], y1[i-1], x2[i-1], y2[i-1])\n",
    "        y1[i] = next_y1(x1[i-1], y1[i-1])\n",
    "        x2[i] = next_x2(x1[i-1], y1[i-1], x2[i-1], y2[i-1])\n",
    "        x2[i] = next_y2(x2[i-1], y2[i-1])\n"
   ]
  },
  {
   "cell_type": "code",
   "execution_count": 41,
   "metadata": {},
   "outputs": [
    {
     "data": {
      "text/plain": [
       "[<matplotlib.lines.Line2D at 0x7ff140c2bf40>]"
      ]
     },
     "execution_count": 41,
     "metadata": {},
     "output_type": "execute_result"
    },
    {
     "data": {
      "image/png": "[encoded data removed]",
      "text/plain": [
       "<Figure size 1080x432 with 1 Axes>"
      ]
     },
     "metadata": {
      "needs_background": "light"
     },
     "output_type": "display_data"
    }
   ],
   "source": [
    "plt.rcParams['figure.figsize'] = [15, 6]\n",
    "run_sim()\n",
    "\n",
    "plt.title(\"x series\")\n",
    "plt.xlabel(\"steps\")\n",
    "plt.ylabel(f\"x (a={a})\")\n",
    "plt.plot(x1)\n"
   ]
  },
  {
   "cell_type": "code",
   "execution_count": 40,
   "metadata": {},
   "outputs": [
    {
     "data": {
      "text/plain": [
       "-8.849383232875544"
      ]
     },
     "execution_count": 40,
     "metadata": {},
     "output_type": "execute_result"
    }
   ],
   "source": [
    "y1.mean()"
   ]
  },
  {
   "cell_type": "code",
   "execution_count": 25,
   "metadata": {},
   "outputs": [
    {
     "data": {
      "text/plain": [
       "array([[ 0.        , -2.9       ],\n",
       "       [-0.2       , -2.9016    ],\n",
       "       [-0.15929231, -2.903     ],\n",
       "       ...,\n",
       "       [-1.67521628, -2.75103239],\n",
       "       [-1.67388458, -2.75095717],\n",
       "       [-1.67254575, -2.75088329]])"
      ]
     },
     "execution_count": 25,
     "metadata": {},
     "output_type": "execute_result"
    }
   ],
   "source": [
    "plt.rcParams['figure.figsize'] = [15, 6*len(a_list)]\n",
    "i=0\n",
    "for a in a_list:\n",
    "    run_sim()\n",
    "    plt.subplot(len(a_list),1,i+1)\n",
    "    plt.title(\"x series\")\n",
    "    plt.xlabel(\"steps\")\n",
    "    plt.ylabel(f\"x (a={a})\")\n",
    "    plt.plot(x)\n",
    "    i+=1"
   ]
  }
 ],
 "metadata": {
  "kernelspec": {
   "display_name": "Python 3",
   "language": "python",
   "name": "python3"
  },
  "language_info": {
   "codemirror_mode": {
    "name": "ipython",
    "version": 3
   },
   "file_extension": ".py",
   "mimetype": "text/x-python",
   "name": "python",
   "nbconvert_exporter": "python",
   "pygments_lexer": "ipython3",
   "version": "3.8.5"
  }
 },
 "nbformat": 4,
 "nbformat_minor": 4
}
