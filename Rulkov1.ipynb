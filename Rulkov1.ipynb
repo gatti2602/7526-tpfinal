{
 "cells": [
  {
   "cell_type": "code",
   "execution_count": 4,
   "metadata": {},
   "outputs": [],
   "source": [
    "import pandas as pd\n",
    "import numpy as np\n",
    "import matplotlib.pyplot as mp\n",
    "import math\n",
    "\n",
    "%matplotlib inline"
   ]
  },
  {
   "cell_type": "markdown",
   "metadata": {},
   "source": [
    "# Mapa de Rulkov\n",
    "\n",
    "Se simula un mapa de Rulkov como un sistema dinamico discreto de 4 variables\n",
    "\n",
    "## Variables: \n",
    "- sigma: Emula la accion de una corriente DC bias externa sobre la neurona\n",
    "- ai: Parametro de control que produce los diferentes patrones de disparo\n",
    "- xi(n): Potencial trans-membrana de la i-ava neurona en el tiempo n\n",
    "- yi(n): Variacion de la corriente de recuperacion ionica\n",
    "- nu: Parametro positivo pequeño << 1\n",
    "- gamma: Funcion sigmoidal de entrada-salida\n",
    "- f: Funcion de acoplamiento interno\n",
    "- gc: Fuerza de la sinapsis quimica\n",
    "- e: Fuerza de acoplamiento interno\n",
    "- vs: Potencial sinaptico reverso\n",
    "- k: Slope de la sigmoidal\n",
    "- titas: Umbral de disparo sinaptico"
   ]
  },
  {
   "cell_type": "code",
   "execution_count": 5,
   "metadata": {},
   "outputs": [],
   "source": [
    "#Constants\n",
    "a = 4.1\n",
    "nu = 0.001\n",
    "sigma = -1.6\n",
    "vs = -1.4\n",
    "k=50\n",
    "titas = -1.4\n",
    "e=0.5\n",
    "gc = 1.0\n",
    "\n",
    "#Functions\n",
    "def f(x, y):\n",
    "    return a/(1 + x**2) + y\n",
    "\n",
    "def gamma(x):\n",
    "    return 1/(1 + math.exp(-1*k*(x-titas)))\n",
    "\n",
    "def next_x1(x1, y1, x2, y2): \n",
    "    return f(x1, y1) + gc*(vs-x1)*gamma(x2) + e*(f(x2,y2)-f(x1,y1))\n",
    "\n",
    "def next_y1(x1, y1):\n",
    "    return y1 - nu*(x1-sigma)\n",
    "\n",
    "def next_x2(x1, y1, x2, y2):\n",
    "    return next_x1(x2, y2, x1, y1)\n",
    "\n",
    "def next_y2(x2, y2):\n",
    "    return next_y1(x2, y2)\n",
    "\n",
    "\n"
   ]
  },
  {
   "cell_type": "code",
   "execution_count": 21,
   "metadata": {},
   "outputs": [
    {
     "name": "stdout",
     "output_type": "stream",
     "text": [
      "CPU times: user 3.2 ms, sys: 0 ns, total: 3.2 ms\n",
      "Wall time: 3.22 ms\n"
     ]
    }
   ],
   "source": [
    "%%time \n",
    "\n",
    "steps = int(1e2)\n",
    "data1 = np.zeros([steps,2])\n",
    "data2 = np.zeros([steps,2])\n",
    "\n",
    "for i in range(steps-1):\n",
    "    data1[i+1][0] = next_x1(data1[i][0], data1[i][1], data2[i][0], data2[i][1])\n",
    "    data1[i+1][1] = next_y1(data1[i][0], data1[i][1])\n",
    "    data2[i+1][0] = next_x2(data1[i][0], data1[i][1], data2[i][0], data2[i][1])\n",
    "    data2[i+1][1] = next_y2(data2[i][0], data2[i][1])\n"
   ]
  },
  {
   "cell_type": "code",
   "execution_count": 24,
   "metadata": {},
   "outputs": [
    {
     "data": {
      "text/plain": [
       "[<matplotlib.lines.Line2D at 0x7f048db25cf8>]"
      ]
     },
     "execution_count": 24,
     "metadata": {},
     "output_type": "execute_result"
    },
    {
     "data": {
      "image/png": "[encoded data removed]",
      "text/plain": [
       "<Figure size 432x288 with 1 Axes>"
      ]
     },
     "metadata": {
      "needs_background": "light"
     },
     "output_type": "display_data"
    }
   ],
   "source": [
    "mp.plot(data1[1])"
   ]
  }
 ],
 "metadata": {
  "kernelspec": {
   "display_name": "Python 3",
   "language": "python",
   "name": "python3"
  },
  "language_info": {
   "codemirror_mode": {
    "name": "ipython",
    "version": 3
   },
   "file_extension": ".py",
   "mimetype": "text/x-python",
   "name": "python",
   "nbconvert_exporter": "python",
   "pygments_lexer": "ipython3",
   "version": "3.6.9"
  }
 },
 "nbformat": 4,
 "nbformat_minor": 2
}
