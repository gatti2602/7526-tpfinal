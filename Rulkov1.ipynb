{
 "cells": [
  {
   "cell_type": "code",
   "execution_count": 4,
   "metadata": {},
   "outputs": [],
   "source": [
    "import pandas as pd\n",
    "import numpy as np\n",
    "import matplotlib.pyplot as mp\n",
    "import math\n",
    "\n",
    "%matplotlib inline"
   ]
  },
  {
   "cell_type": "markdown",
   "metadata": {},
   "source": [
    "# Mapa de Rulkov\n",
    "\n",
    "Se simula un mapa de Rulkov como un sistema dinamico discreto de 4 variables\n",
    "\n",
    "## Variables: \n",
    "- sigma: Emula la accion de una corriente DC bias externa sobre la neurona\n",
    "- ai: Parametro de control que produce los diferentes patrones de disparo\n",
    "- xi(n): Potencial trans-membrana de la i-ava neurona en el tiempo n\n",
    "- yi(n): Variacion de la corriente de recuperacion ionica\n",
    "- nu: Parametro positivo pequeño << 1\n",
    "- gamma: Funcion sigmoidal de entrada-salida\n",
    "- f: Funcion de acoplamiento interno\n",
    "- gc: Fuerza de la sinapsis quimica\n",
    "- e: Fuerza de acoplamiento interno\n",
    "- vs: Potencial sinaptico reverso\n",
    "- k: Slope de la sigmoidal\n",
    "- titas: Umbral de disparo sinaptico"
   ]
  },
  {
   "cell_type": "code",
   "execution_count": 5,
   "metadata": {},
   "outputs": [],
   "source": [
    "#Constants\n",
    "a = 4.1\n",
    "nu = 0.001\n",
    "sigma = -1.6\n",
    "vs = -1.4\n",
    "k=50\n",
    "titas = -1.4\n",
    "e=0.5\n",
    "gc = 1.0\n",
    "\n",
    "#Functions\n",
    "def f(x, y):\n",
    "    return a/(1 + x**2) + y\n",
    "\n",
    "def gamma(x):\n",
    "    return 1/(1 + math.exp(-1*k*(x-titas)))\n",
    "\n",
    "def next_x1(x1, y1, x2, y2): \n",
    "    return f(x1, y1) + gc*(vs-x1)*gamma(x2) + e*(f(x2,y2)-f(x1,y1))\n",
    "\n",
    "def next_y1(x1, y1):\n",
    "    return y1 - nu*(x1-sigma)\n",
    "\n",
    "def next_x2(x1, y1, x2, y2):\n",
    "    return next_x1(x2, y2, x1, y1)\n",
    "\n",
    "def next_y2(x2, y2):\n",
    "    return next_y1(x2, y2)\n",
    "\n",
    "\n"
   ]
  },
  {
   "cell_type": "code",
   "execution_count": 15,
   "metadata": {},
   "outputs": [
    {
     "name": "stdout",
     "output_type": "stream",
     "text": [
      "[[ 0.00000000e+00  0.00000000e+00]\n",
      " [ 2.70000000e+00 -1.60000000e-03]\n",
      " [-3.60702823e+00 -5.90000000e-03]\n",
      " ...\n",
      " [-1.38750913e+00 -2.78144501e+00]\n",
      " [-1.38795732e+00 -2.78165750e+00]\n",
      " [-1.38841221e+00 -2.78186954e+00]]\n",
      "[[ 0.00000000e+00  0.00000000e+00]\n",
      " [ 2.70000000e+00 -1.60000000e-03]\n",
      " [-3.60702823e+00 -5.90000000e-03]\n",
      " ...\n",
      " [-1.38750913e+00 -2.78144501e+00]\n",
      " [-1.38795732e+00 -2.78165750e+00]\n",
      " [-1.38841221e+00 -2.78186954e+00]]\n",
      "CPU times: user 3min 25s, sys: 271 ms, total: 3min 25s\n",
      "Wall time: 3min 25s\n"
     ]
    }
   ],
   "source": [
    "%%time \n",
    "\n",
    "steps = 10000000\n",
    "data1 = np.zeros([steps,2])\n",
    "data2 = np.zeros([steps,2])\n",
    "\n",
    "for i in range(steps-1):\n",
    "    data1[i+1][0] = next_x1(data1[i][0], data1[i][1], data2[i][0], data2[i][1])\n",
    "    data1[i+1][1] = next_y1(data1[i][0], data1[i][1])\n",
    "    data2[i+1][0] = next_x2(data1[i][0], data1[i][1], data2[i][0], data2[i][1])\n",
    "    data2[i+1][1] = next_y2(data2[i][0], data2[i][1])\n",
    "\n",
    "print(data1)\n",
    "print(data2)"
   ]
  }
 ],
 "metadata": {
  "kernelspec": {
   "display_name": "Python 3",
   "language": "python",
   "name": "python3"
  },
  "language_info": {
   "codemirror_mode": {
    "name": "ipython",
    "version": 3
   },
   "file_extension": ".py",
   "mimetype": "text/x-python",
   "name": "python",
   "nbconvert_exporter": "python",
   "pygments_lexer": "ipython3",
   "version": "3.6.9"
  }
 },
 "nbformat": 4,
 "nbformat_minor": 2
}
